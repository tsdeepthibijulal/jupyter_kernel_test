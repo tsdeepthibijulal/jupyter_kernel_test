{
  "nbformat": 4,
  "nbformat_minor": 0,
  "metadata": {
    "colab": {
      "provenance": [],
      "collapsed_sections": [],
      "authorship_tag": "ABX9TyPlCfNlA9NlXo7Ga03pYTw1",
      "include_colab_link": true
    },
    "kernelspec": {
      "name": "python3",
      "display_name": "Python 3"
    },
    "language_info": {
      "name": "python"
    }
  },
  "cells": [
    {
      "cell_type": "markdown",
      "metadata": {
        "id": "view-in-github",
        "colab_type": "text"
      },
      "source": [
        "<a href=\"https://colab.research.google.com/github/tsdeepthibijulal/jupyter_kernel_test/blob/main/w4.ipynb\" target=\"_parent\"><img src=\"https://colab.research.google.com/assets/colab-badge.svg\" alt=\"Open In Colab\"/></a>"
      ]
    },
    {
      "cell_type": "code",
      "execution_count": null,
      "metadata": {
        "colab": {
          "base_uri": "https://localhost:8080/"
        },
        "id": "gyIsFuUcEpTY",
        "outputId": "b23fbf09-bf3d-4e9b-813b-df4486037f36"
      },
      "outputs": [
        {
          "output_type": "stream",
          "name": "stdout",
          "text": [
            "[9, 5, 6, 10, 3, 10, 7, 10, 9, 10, 9, 5, 6, 8, 4, 5, 4, 3, 8, 6, 3, 9, 8, 10, 8, 2, 3, 5, 5, 3, 3, 2, 7, 10, 7, 7, 10, 4, 7, 2, 10, 8, 1, 9, 5, 9, 8, 8, 7, 4, 7, 1, 3, 10, 9, 3, 9, 6, 6, 7, 8, 7, 4, 6, 4, 2, 9, 9, 8, 8, 4, 7, 5, 9, 8, 1, 7, 3, 9, 6, 4, 4, 10, 3, 7, 5, 7, 7, 5, 5, 7, 6, 5, 2, 3, 6, 8, 7, 4, 2]\n"
          ]
        }
      ],
      "source": [
        "import random\n",
        "l=[]\n",
        "for i in range(100):\n",
        "     #l.append(random.random()) #appending some random float number\n",
        "     l.append(random.randint(1,10)) # append 10 random integer number you can change the range in for loop and random int\n",
        "\n",
        "print(l)\n"
      ]
    },
    {
      "cell_type": "code",
      "source": [
        "import random\n",
        "l = []\n",
        "for i in range(30):\n",
        "  l.append(random.randint(1,365))\n",
        "  #append random numbers between 1 to 365.\n",
        "  #append 30 of these numbers\n",
        "l.sort()\n",
        "print(l)\n",
        "i = 0\n",
        "flag = 0 # denot that there is no repatition\n",
        "while(i <= len(l)-1):\n",
        "  if(l[i] == l[i+1]):\n",
        "    print(\"Repeats\",l[i],l[i+1])\n",
        "    flag = 1\n",
        "    break\n",
        "  i = i +1\n",
        "if(flag == 0):  \n",
        "    print(\"There is no repetition.\")    "
      ],
      "metadata": {
        "colab": {
          "base_uri": "https://localhost:8080/"
        },
        "id": "ystDXnpyG0kz",
        "outputId": "892924c5-ec64-4026-f9fc-bec6fdb7646f"
      },
      "execution_count": null,
      "outputs": [
        {
          "output_type": "stream",
          "name": "stdout",
          "text": [
            "[28, 47, 64, 65, 69, 76, 95, 108, 121, 127, 133, 135, 146, 179, 182, 182, 187, 232, 237, 238, 250, 253, 260, 261, 303, 306, 314, 327, 329, 352]\n",
            "Repeats 182 182\n"
          ]
        }
      ]
    },
    {
      "cell_type": "code",
      "source": [
        "import random\n",
        "#l =[1,3,4,8985,2344,23479]\n",
        "l =  []\n",
        "#a = 234 #this for only check a \n",
        "#if yo want check the number you wish then ask for enter the number\n",
        "print(\"Enter the number:\" )\n",
        "n = int(input())\n",
        "\n",
        "for i in range(10):\n",
        "   l.append(random.randint(1,1000))\n",
        "   #if you want to ask number after the random experiment \n",
        "   # print and input position is here\n",
        "   flag = 0\n",
        "for i in range(len(l)):\n",
        "  if(l[i] == a):\n",
        "    print(\"wow! element found\")\n",
        "    flag = 1\n",
        "    break \n",
        "print(l)     \n",
        "if(flag == 0):\n",
        "  print(\"Element not found\")\n"
      ],
      "metadata": {
        "colab": {
          "base_uri": "https://localhost:8080/"
        },
        "id": "gt7nA8QIo_0i",
        "outputId": "fff874cc-3920-432b-b5f2-7be847d17c18"
      },
      "execution_count": null,
      "outputs": [
        {
          "output_type": "stream",
          "name": "stdout",
          "text": [
            "Enter the number:\n",
            "566\n",
            "[7, 780, 985, 725, 385, 978, 896, 506, 600, 926]\n",
            "Element not found\n"
          ]
        }
      ]
    },
    {
      "cell_type": "code",
      "source": [
        "import random\n",
        "l = [1223,1244,7855,8458,1232] \n",
        "n = 0\n",
        "while(n > -1):\n",
        "  print(\"enter a number:\")\n",
        "  n = int(input())\n",
        "\n",
        "  \n",
        "  flag = 0\n",
        "  for i in range(len(l)):\n",
        "    if(l[i] == n):\n",
        "      print(\"Element fount\")\n",
        "      flag = 1\n",
        "      break\n",
        "  if(flag == 0):\n",
        "    print(\"element not found\")    \n",
        "\n"
      ],
      "metadata": {
        "colab": {
          "base_uri": "https://localhost:8080/"
        },
        "id": "ODs3gab_7kdW",
        "outputId": "151bd629-d7ba-4383-c86e-b51406a91f3a"
      },
      "execution_count": null,
      "outputs": [
        {
          "output_type": "stream",
          "name": "stdout",
          "text": [
            "enter a number:\n",
            "1223\n",
            "Element fount\n",
            "enter a number:\n",
            "12345\n",
            "element not found\n",
            "enter a number:\n",
            "-1\n",
            "element not found\n"
          ]
        }
      ]
    },
    {
      "cell_type": "code",
      "source": [
        "#list sorting\n",
        "l=[12, 3, 7, 13,7, 9, 14, 25, 15]\n",
        "l.sort()\n",
        "print(l)"
      ],
      "metadata": {
        "id": "LOrSmtDj7kRx",
        "colab": {
          "base_uri": "https://localhost:8080/"
        },
        "outputId": "1b2ecfe5-977a-4e5f-c69b-94a0dd344f46"
      },
      "execution_count": null,
      "outputs": [
        {
          "output_type": "stream",
          "name": "stdout",
          "text": [
            "[3, 7, 7, 9, 12, 13, 14, 15, 25]\n"
          ]
        }
      ]
    },
    {
      "cell_type": "code",
      "source": [
        "# logical code for sorting a list\n",
        "l = [5,9,93,3,55,23,88,74.91]\n",
        "l1 = []\n",
        "\n",
        "while(len(l)>0): # check the condition while length of l become 1\n",
        "  small =l[0] \n",
        "  for i in range(len(l)):\n",
        "    if(l[i] < small):\n",
        "      small = l[i]\n",
        "  #l1 = l1 + [small]\n",
        "  l1.append(small)\n",
        "  l.remove(small)\n",
        "print(l1) \n",
        "\n"
      ],
      "metadata": {
        "colab": {
          "base_uri": "https://localhost:8080/"
        },
        "id": "ftO9VAMrWu_3",
        "outputId": "2fd51df1-1d41-4f7f-9e70-0f74b9896871"
      },
      "execution_count": null,
      "outputs": [
        {
          "output_type": "stream",
          "name": "stdout",
          "text": [
            "[3, 5, 9, 23, 55, 74.91, 88, 93]\n"
          ]
        }
      ]
    },
    {
      "cell_type": "code",
      "source": [
        "#adding up the list element\n",
        "l = [12,34,25,3,6,9,2,1]\n",
        "sum = 0\n",
        "for i in range(len(l)):\n",
        "  sum = sum + l[i]\n",
        "print(sum)  \n"
      ],
      "metadata": {
        "colab": {
          "base_uri": "https://localhost:8080/"
        },
        "id": "E4szP7Mt9_f5",
        "outputId": "42ef9bf5-f9d5-41c9-a0a6-bf395ea60719"
      },
      "execution_count": null,
      "outputs": [
        {
          "output_type": "stream",
          "name": "stdout",
          "text": [
            "92\n"
          ]
        }
      ]
    },
    {
      "cell_type": "code",
      "source": [
        "import random\n",
        "l = random.sample(list(range(10000)),1000)\n",
        "print(l)\n",
        "sum = 0\n",
        "for i in range(len(l)):\n",
        "  sum = sum + l[i]\n",
        "print(sum)  "
      ],
      "metadata": {
        "colab": {
          "base_uri": "https://localhost:8080/"
        },
        "id": "eZ4hoCfMAbJg",
        "outputId": "23ac658e-8714-425a-e123-f256e3746baa"
      },
      "execution_count": null,
      "outputs": [
        {
          "output_type": "stream",
          "name": "stdout",
          "text": [
            "[8964, 5843, 6508, 8049, 1167, 6601, 6546, 26, 976, 7112, 9909, 1289, 3645, 4303, 356, 4158, 9396, 1357, 7385, 6254, 2201, 2740, 7119, 6796, 7177, 9686, 8315, 4155, 6597, 6252, 2569, 3961, 6801, 5658, 7405, 4604, 953, 6666, 9709, 1253, 8394, 6283, 9597, 3337, 6781, 1448, 4265, 9097, 2974, 9713, 161, 7811, 2797, 6300, 5509, 6517, 1789, 7257, 4678, 3602, 5362, 8058, 8466, 3419, 415, 7349, 5803, 3680, 8715, 8173, 2170, 8038, 9353, 9284, 4121, 101, 5380, 9473, 1380, 4763, 4000, 1654, 503, 6275, 4369, 1135, 6507, 8345, 1927, 2878, 5407, 3131, 7347, 7339, 4415, 4756, 9175, 5584, 3932, 4892, 6490, 2599, 2750, 5043, 2753, 3118, 7726, 6916, 8155, 3588, 5534, 1972, 4659, 7921, 3783, 1574, 2492, 4650, 8744, 8265, 6504, 4516, 8023, 4861, 6946, 890, 9970, 2978, 6155, 1932, 9077, 4975, 1477, 8096, 6560, 2619, 8125, 5488, 1026, 9546, 2361, 4300, 244, 4073, 590, 9118, 5181, 9050, 8052, 7865, 4954, 8835, 3784, 1616, 8788, 2123, 7690, 6438, 3117, 9371, 7282, 4792, 7787, 7232, 4536, 1612, 5274, 3866, 5823, 8273, 3889, 720, 6768, 2063, 8495, 7501, 4714, 43, 4310, 5570, 6109, 1351, 5827, 8453, 7143, 601, 770, 7010, 2751, 7246, 9942, 5569, 8238, 2776, 3512, 4263, 9295, 8913, 5713, 3244, 667, 2478, 9033, 2638, 4842, 1347, 6307, 671, 3943, 3979, 848, 5458, 6847, 9604, 8335, 4865, 7140, 2898, 9661, 9421, 2134, 974, 3576, 2310, 2911, 3463, 1650, 3517, 7748, 4253, 2561, 53, 6576, 4009, 191, 3911, 7789, 8224, 8050, 5743, 5379, 3239, 8249, 6670, 2029, 873, 9543, 4279, 9162, 542, 5993, 5229, 4901, 3069, 9001, 7630, 1009, 3949, 1474, 4386, 2440, 2906, 5365, 4034, 9924, 7545, 8113, 6068, 4519, 8973, 4374, 4922, 4934, 9409, 6006, 7218, 7845, 8293, 4897, 862, 5182, 1656, 514, 553, 6446, 5917, 2115, 3452, 2601, 4462, 9635, 7793, 4022, 3434, 8098, 2739, 5162, 331, 637, 8065, 4436, 9614, 3210, 5480, 5933, 4008, 6544, 4575, 8602, 2790, 212, 7591, 1067, 2902, 4298, 9136, 5894, 3018, 576, 3823, 9672, 9423, 5224, 7206, 8772, 843, 4367, 4477, 3126, 8624, 9910, 1755, 1956, 2012, 4559, 4257, 2309, 8449, 6948, 6004, 5538, 1437, 8128, 9889, 4623, 411, 2336, 9705, 6461, 6160, 9634, 4028, 5186, 309, 9764, 5208, 9315, 7239, 2672, 3363, 2203, 6427, 8163, 2039, 1939, 2218, 3545, 8378, 454, 796, 9490, 2437, 1800, 4554, 224, 122, 2404, 5503, 451, 2371, 6126, 9366, 1453, 5710, 586, 8829, 9948, 6381, 4788, 6770, 7359, 9993, 6478, 3909, 7430, 4530, 5025, 2476, 3109, 2643, 6971, 3287, 7301, 2612, 6771, 5693, 2880, 9143, 8918, 9834, 6594, 5930, 1392, 1008, 1287, 3073, 5911, 6468, 3484, 3794, 8571, 9508, 2659, 7217, 5951, 7888, 1159, 5776, 2692, 3614, 1087, 8631, 7414, 5047, 5340, 9609, 3891, 641, 1210, 8264, 3859, 8310, 2204, 8907, 6256, 3650, 7023, 2778, 682, 7991, 4813, 1149, 756, 4815, 1174, 7905, 7689, 4413, 3385, 5523, 231, 9859, 7244, 2517, 802, 5429, 4289, 5432, 7234, 1928, 1805, 616, 6756, 1898, 8465, 4235, 3693, 816, 3420, 7803, 829, 6972, 8723, 9129, 3254, 9206, 5848, 6132, 7728, 9749, 6066, 3894, 9227, 4620, 8122, 9894, 4845, 3644, 7596, 2510, 8254, 4894, 9221, 3504, 1798, 8551, 8627, 5989, 8970, 8157, 9603, 1097, 2580, 4056, 5666, 6802, 9883, 4646, 7173, 5144, 9523, 246, 4867, 7360, 5301, 4456, 61, 5456, 2352, 5697, 5854, 1685, 5078, 3584, 3479, 5111, 310, 8062, 666, 7289, 938, 1316, 531, 3639, 1912, 2387, 5685, 479, 6469, 2229, 3202, 4328, 285, 6390, 8441, 1865, 5460, 9911, 8185, 9995, 5887, 4832, 6587, 3138, 6015, 8322, 3338, 4251, 3188, 9629, 2312, 3562, 9655, 3422, 3106, 5574, 6382, 292, 2629, 484, 5002, 3828, 7719, 1102, 7770, 33, 1396, 9840, 2594, 9194, 4605, 7740, 1868, 6744, 4595, 6980, 2005, 4566, 3715, 6652, 3168, 9507, 2319, 4254, 2571, 680, 1816, 4363, 9180, 6349, 3424, 7537, 9130, 2036, 280, 7697, 1894, 1669, 7435, 5052, 403, 3351, 6047, 5882, 7706, 2768, 8984, 9246, 1503, 1476, 7460, 6484, 3795, 1252, 4533, 9035, 8085, 1944, 8054, 8084, 9621, 6773, 7872, 3733, 3682, 6595, 8505, 5148, 9788, 6398, 1885, 6786, 6922, 5439, 7955, 7249, 9638, 6967, 8799, 4638, 4597, 1546, 2318, 3660, 836, 4352, 5556, 9823, 4095, 6858, 6741, 5343, 1447, 3567, 258, 1090, 5385, 866, 1617, 7936, 1075, 6342, 4805, 8539, 6103, 3180, 6225, 3769, 9826, 7619, 3242, 8219, 4082, 495, 5866, 9564, 1081, 6722, 6124, 8237, 1368, 6005, 995, 7000, 8516, 7016, 9813, 2142, 3595, 6828, 9592, 2436, 8401, 1240, 3591, 8340, 5455, 8105, 7162, 6643, 1586, 7354, 6883, 2525, 2067, 5296, 3758, 2926, 7926, 2235, 7846, 1425, 3381, 8055, 2, 3160, 2493, 1293, 922, 1879, 9821, 1309, 7436, 5959, 9830, 9029, 8232, 5463, 6864, 9152, 4454, 1682, 482, 6108, 3948, 8805, 3694, 6589, 9700, 7280, 4185, 6492, 880, 2463, 3658, 2734, 5029, 8853, 9959, 3604, 8455, 1548, 1014, 1467, 6070, 9441, 3124, 7685, 6869, 338, 8547, 4143, 5402, 5511, 2407, 4079, 4359, 3293, 9717, 3094, 6548, 822, 2297, 5386, 3878, 7567, 4938, 9732, 2782, 4596, 7276, 3017, 3933, 9286, 6042, 6690, 9279, 3248, 435, 3260, 902, 3485, 2523, 6752, 3163, 7459, 5739, 1526, 9750, 3454, 2482, 7137, 4647, 3285, 3965, 1730, 8986, 617, 2871, 645, 4637, 751, 3366, 3690, 747, 919, 9466, 8498, 8909, 7238, 4112, 369, 6161, 8870, 179, 4193, 3150, 9560, 5484, 4987, 7477, 1896, 4259, 7231, 5679, 79, 7116, 3636, 3100, 4113, 9464, 9785, 7684, 96, 4606, 4111, 2447, 577, 9389, 3947, 9306, 6106, 1420, 6619, 9240, 9099, 8545, 2014, 3255, 7416, 7920, 3538, 3036, 9259, 1544, 9359, 2110, 5009, 5096, 4758, 3959, 6679, 4538, 5883, 8959, 7333, 8489, 1362, 31, 7718, 8333, 3613, 5197, 2105, 9322, 2239, 2459, 9400, 4587, 3861, 6171, 8598, 7713, 5431, 8407, 8908, 522, 7744, 2400, 5659, 2344, 1698, 7172, 7699, 3768, 6832, 3241, 2511, 1591, 2737, 8992, 1847, 5733, 850, 3684, 6370, 9451, 3453, 5740, 6072, 5667, 2934, 9499, 6199, 8655, 7907, 6445, 177, 7275, 8789, 3530, 627, 7166, 530, 8528, 3143, 7467, 4109, 5180, 2368, 4847, 1785, 3832, 6713, 856, 7723, 534, 6530, 2153, 8644, 8726, 9791, 4144, 9043, 7425, 3892, 261, 4020, 8080, 6624, 9535, 934, 358, 1322, 5070, 1659, 9024, 1490, 3720, 240, 4603, 2863, 9146, 1664, 7475, 6919, 9000, 5599, 4316, 4172]\n",
            "5049261\n"
          ]
        }
      ]
    },
    {
      "cell_type": "code",
      "source": [
        "#find the dot product of two vectors\n",
        "x = [1,4,6,7]\n",
        "y = [9,8,4,3]\n",
        "sum = 0\n",
        "if(len(x) == len(y)):\n",
        "  for i in range(len(x)):\n",
        "    sum = sum + (x[i] * y[i])\n",
        "  print(sum) \n",
        "else:   \n",
        "  print(\"not valid\")\n"
      ],
      "metadata": {
        "id": "R-EFksi17dEW",
        "colab": {
          "base_uri": "https://localhost:8080/"
        },
        "outputId": "60235d03-3b94-4277-d6e6-015645b1ad51"
      },
      "execution_count": null,
      "outputs": [
        {
          "output_type": "stream",
          "name": "stdout",
          "text": [
            "86\n"
          ]
        }
      ]
    },
    {
      "cell_type": "markdown",
      "source": [
        "#Matrix addition by first principles\n"
      ],
      "metadata": {
        "id": "vJlN5gQtOL1a"
      }
    },
    {
      "cell_type": "code",
      "source": [
        "dim = 3\n",
        "r1 = [1,3,4]\n",
        "r2 = [4,2,5]\n",
        "r3 = [2,8,5]\n",
        "\n",
        "s1 = [2,1,1]\n",
        "s2 = [2,5,6]\n",
        "s3 = [6,3,1]\n",
        "\n",
        "A = []\n",
        "A.append(r1)\n",
        "A.append(r2)\n",
        "A.append(r3)\n",
        "\n",
        "B = []\n",
        "B.append(s1)\n",
        "B.append(s2)\n",
        "B.append(s3)\n",
        "\n",
        "print(A)\n",
        "print(B)\n",
        "\n",
        "# need to add A and B\n",
        "C = [[0,0,0],[0,0,0],[0,0,0]] ## #initialising the empty matrix\n",
        "\n",
        "for i in range(dim):\n",
        "  for j in range(dim):\n",
        "       C[i][j] = A[i][j] + B[i][j]\n",
        "print(C)    "
      ],
      "metadata": {
        "colab": {
          "base_uri": "https://localhost:8080/"
        },
        "id": "V1g8n2XRN-W3",
        "outputId": "dc48202e-765e-452b-ec77-1c3e681642c2"
      },
      "execution_count": null,
      "outputs": [
        {
          "output_type": "stream",
          "name": "stdout",
          "text": [
            "[[1, 3, 4], [4, 2, 5], [2, 8, 5]]\n",
            "[[2, 1, 1], [2, 5, 6], [6, 3, 1]]\n",
            "[[3, 4, 5], [6, 7, 11], [8, 11, 6]]\n"
          ]
        }
      ]
    },
    {
      "cell_type": "code",
      "source": [
        "# matrix multiplication\n",
        "dim =3\n",
        "r1 =[1,3,5]\n",
        "r2 =[3,2,1]\n",
        "r3 =[4,2,5]\n",
        "\n",
        "c1 =[1,4,2]\n",
        "c2 =[5,2,3]\n",
        "c3 =[1,3,2]\n",
        "\n",
        "A = []\n",
        "A.append(r1)\n",
        "A.append(r2)\n",
        "A.append(r3)\n",
        "\n",
        "B = []\n",
        "B.append(c1)\n",
        "B.append(c2)\n",
        "B.append(c3)\n",
        "\n",
        "print(A)\n",
        "print(B)\n",
        "#addition \n",
        "C = [[0,0,0],[0,0,0],[0,0,0]]\n",
        "for i in range(dim):\n",
        "  for j in range(dim):\n",
        "    C[i][j] = A[i][j] + B[i][j]\n",
        "print(C)  \n",
        "#multiplication\n",
        "M = [[0,0,0],[0,0,0],[0,0,0]]\n",
        "for i in range(dim):\n",
        "  for j in range (dim):\n",
        "    for k in range(dim):\n",
        "      M[i][j] = M[i][j] + A[i][k] * B[k][j] \n",
        "print(M) \n",
        "\n"
      ],
      "metadata": {
        "colab": {
          "base_uri": "https://localhost:8080/"
        },
        "id": "cDEFazRbx8kN",
        "outputId": "7ae05774-bd36-4715-92f4-2c64343dff79"
      },
      "execution_count": null,
      "outputs": [
        {
          "output_type": "stream",
          "name": "stdout",
          "text": [
            "[[1, 3, 5], [3, 2, 1], [4, 2, 5]]\n",
            "[[1, 4, 2], [5, 2, 3], [1, 3, 2]]\n",
            "[[2, 7, 7], [8, 4, 4], [5, 5, 7]]\n",
            "[[21, 25, 21], [14, 19, 14], [19, 35, 24]]\n"
          ]
        }
      ]
    },
    {
      "cell_type": "code",
      "source": [],
      "metadata": {
        "id": "bxHJMdr1OXGF"
      },
      "execution_count": null,
      "outputs": []
    }
  ]
}