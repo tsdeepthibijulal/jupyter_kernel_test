{
  "nbformat": 4,
  "nbformat_minor": 0,
  "metadata": {
    "colab": {
      "provenance": [],
      "collapsed_sections": [],
      "authorship_tag": "ABX9TyMWhDalCCPK31aTm6PCxcLb",
      "include_colab_link": true
    },
    "kernelspec": {
      "name": "python3",
      "display_name": "Python 3"
    },
    "language_info": {
      "name": "python"
    }
  },
  "cells": [
    {
      "cell_type": "markdown",
      "metadata": {
        "id": "view-in-github",
        "colab_type": "text"
      },
      "source": [
        "<a href=\"https://colab.research.google.com/github/tsdeepthibijulal/jupyter_kernel_test/blob/main/W5_1.ipynb\" target=\"_parent\"><img src=\"https://colab.research.google.com/assets/colab-badge.svg\" alt=\"Open In Colab\"/></a>"
      ]
    },
    {
      "cell_type": "code",
      "execution_count": null,
      "metadata": {
        "colab": {
          "base_uri": "https://localhost:8080/"
        },
        "id": "_tMmDj2CFr0O",
        "outputId": "a353231d-a632-4cbe-dc34-8d41ef96d105"
      },
      "outputs": [
        {
          "output_type": "stream",
          "name": "stdout",
          "text": [
            "-7\n",
            "12\n",
            "[100, 200, 300, 1, 10, 3, 5, 9, 2, -7, 4, 12, 6]\n",
            "[1, 10, 3, 5, 9, 2, -7, 4, 12, 6, 100, 200, 300]\n",
            "4.5\n"
          ]
        }
      ],
      "source": [
        "#functions\n",
        "def list_mini(l):\n",
        "  mini = l[0]\n",
        "  for i in range(len(l)):\n",
        "    if(l[i] < mini):\n",
        "      mini = l[i]\n",
        "  return mini\n",
        "\n",
        "def list_maxi(l):\n",
        "  maxi = l[0]\n",
        "  for i in range(len(l)):\n",
        "    if(l[i] > maxi):\n",
        "      maxi = l[i]\n",
        "  return maxi  \n",
        "\n",
        "def list_appendbefore(l,z):\n",
        "  Al = []\n",
        "  for i in range(len(z)):\n",
        "    Al.append(z[i])\n",
        "  for i in range(len(l)):\n",
        "    Al.append(l[i])\n",
        "  return Al  \n",
        "\n",
        "def list_appendafter(l,z):\n",
        "  Aa = []\n",
        "  Aa = l + z ## you can write a for loop to append the list same like previous code\n",
        "  return Aa \n",
        "\n",
        "def list_aveg(l):\n",
        "  sum = 0\n",
        "  for i in range(len(l)):\n",
        "    sum = sum + l[i]\n",
        "    aveg = sum / len(l)\n",
        "  return(aveg)  \n",
        "\n",
        "l = [1,10,3,5,9,2,-7, 4,12,6]\n",
        "z = [100,200,300]\n",
        "print(list_mini(l))  \n",
        "print(list_maxi(l))\n",
        "print(list_appendbefore(l,z)) \n",
        "print(list_appendafter(l,z))  \n",
        "print(list_aveg(l))\n"
      ]
    },
    {
      "cell_type": "code",
      "source": [
        "#sorting using functions\n",
        "# steps are:\n",
        "#find out the minimum most element in the list \n",
        "#append that to a new list\n",
        "#remove the minimum from the original list.\n",
        "def list_sort(l):\n",
        "  sort_l = []\n",
        "  while(len(l) >0):\n",
        "    mini = l[0]\n",
        "    for i in range(len(l)):\n",
        "      if(l[i] < mini):\n",
        "        mini = l[i]\n",
        "    sort_l.append(mini) # or we can use sort_l += [mini]\n",
        "    l.remove(mini)\n",
        "  return(sort_l) \n",
        "\n",
        "l = [90,15,23,56,78,45,51,10]   \n",
        "print(list_sort(l))\n",
        "\n",
        "\n",
        "\n",
        "\n",
        "\n"
      ],
      "metadata": {
        "colab": {
          "base_uri": "https://localhost:8080/"
        },
        "id": "Y9Wm7soeP3U3",
        "outputId": "fc2c90f7-e857-4134-ec2a-df5dbc04f9af"
      },
      "execution_count": null,
      "outputs": [
        {
          "output_type": "stream",
          "name": "stdout",
          "text": [
            "[10, 15, 23, 45, 51, 56, 78, 90]\n"
          ]
        }
      ]
    },
    {
      "cell_type": "code",
      "source": [
        "# steps for sorting a list\n",
        "#find out the minimum most element in the list \n",
        "#append that to a new list\n",
        "#remove the minimum from the original list.\n",
        "def mini_list(l):\n",
        "  mini = l[0]\n",
        "  for i in range(len(l)):\n",
        "    if(l[i] < mini):\n",
        "      mini = l[i]\n",
        "  return mini\n",
        "\n",
        "def list_sort(l):\n",
        "  sort_l = []\n",
        "  while(len(l) > 0):\n",
        "    mini = mini_list(l)\n",
        "    sort_l.append(mini)\n",
        "    l.remove(mini)\n",
        "  return sort_l  \n",
        "\n",
        "l = [9,30,20,69,28,100,45,89]\n",
        "print(list_sort(l))\n",
        "\n"
      ],
      "metadata": {
        "colab": {
          "base_uri": "https://localhost:8080/"
        },
        "id": "RRnlP4j4ap1Y",
        "outputId": "85bf0763-e17f-43c9-90be-3e3f581eb95b"
      },
      "execution_count": null,
      "outputs": [
        {
          "output_type": "stream",
          "name": "stdout",
          "text": [
            "[9, 20, 28, 30, 45, 69, 89, 100]\n"
          ]
        }
      ]
    },
    {
      "cell_type": "code",
      "source": [
        "#matrix multiplication using function\n",
        "#Initialise C to zero.\n",
        "#I need to consider two matrices A and B.\n",
        "#I need to find the dot product of two lists.\n",
        "# I need to pick ith row and jth column in a matrix\n",
        "\n",
        "def initialize_mat(dim):\n",
        "  C =[]\n",
        "  for i in range(dim):\n",
        "    C.append([])\n",
        "  for i in range(dim):\n",
        "    for j in range(dim):\n",
        "      C[i].append(0)\n",
        "  return C    \n",
        "\n",
        "def dot_product(u,v):\n",
        "  dim = len(u)\n",
        "  ans = 0\n",
        "  for i in range(dim):\n",
        "    ans = ans + u[i] * v[i]\n",
        "  return ans\n",
        "\n",
        "def row(M,i):\n",
        "  dim = len(M)\n",
        "  l = []\n",
        "  for k in range(dim):\n",
        "    l.append(M[i][k])\n",
        "  return(l)\n",
        "\n",
        "def column(M,j):\n",
        "  dim = len(M)\n",
        "  l = [] \n",
        "  for k in range(dim):\n",
        "    l.append(M[k][j])\n",
        "  return l \n",
        "\n",
        "def mat_mul(A,B):\n",
        "  dim = len(A)\n",
        "  C = initialize_mat(dim) \n",
        "  for i in range(dim):\n",
        "    for j in range(dim):\n",
        "      C[i][j] = dot_product(row(A,i),column(B,j)) #ith row of A * jth column of B\n",
        "  return C   \n",
        "\n",
        "def input_matrix(Z):\n",
        "  \n",
        "  Z = []\n",
        "  for i in range(dim):\n",
        "    row = []\n",
        "    for x in input().split(''):\n",
        "      row.append(int(x))\n",
        "    Z.append(row)  \n",
        "  return(Z)\n",
        "\n",
        "\n",
        "\n",
        "\n",
        "\n",
        "\n",
        "\n",
        "\n",
        "\n"
      ],
      "metadata": {
        "id": "HZ8_odO3fl7X"
      },
      "execution_count": null,
      "outputs": []
    },
    {
      "cell_type": "code",
      "source": [
        "#PPA-5\n",
        "def factorial(n): #def is used for define a function\n",
        "  if(n<0):\n",
        "    return -1 \n",
        "  elif(n==0):\n",
        "    return 1\n",
        "  else:\n",
        "    fact = 1\n",
        "    for i in range(1,n+1):\n",
        "      fact = fact * i\n",
        "    return fact \n",
        "n = int(input())\n",
        "print(factorial(n))         "
      ],
      "metadata": {
        "colab": {
          "base_uri": "https://localhost:8080/"
        },
        "id": "IVCg7viThu0s",
        "outputId": "bc58c796-68c7-4323-f371-fe79e1e137e1"
      },
      "execution_count": null,
      "outputs": [
        {
          "output_type": "stream",
          "name": "stdout",
          "text": [
            "0\n",
            "1\n"
          ]
        }
      ]
    },
    {
      "cell_type": "code",
      "source": [
        "#whether given year is leap year or not\n",
        "def check_leap_year(year):\n",
        "  if(year % 100 == 0 and year % 400 == 0):\n",
        "    return(True)\n",
        "  elif(year % 100 != 0 and year %4 == 0):\n",
        "    return(True)\n",
        "  else:\n",
        "     return False  \n",
        "year = int(input())\n",
        "print(check_leap_year(year))    \n"
      ],
      "metadata": {
        "colab": {
          "base_uri": "https://localhost:8080/"
        },
        "id": "QlrbeTUOI6pj",
        "outputId": "ca277eae-6844-49a2-ffdd-2dc9ff27a549"
      },
      "execution_count": null,
      "outputs": [
        {
          "output_type": "stream",
          "name": "stdout",
          "text": [
            "1992\n",
            "True\n"
          ]
        }
      ]
    },
    {
      "cell_type": "code",
      "source": [
        "def check_leap_year(year):\n",
        "  if(year% 100 == 0 and year%400 == 0 ) or (year%100 != 0 and year % 4 ==0):\n",
        "    return True\n",
        "  else:\n",
        "    return False  \n",
        "year = int(input())\n",
        "print(check_leap_year(year))    "
      ],
      "metadata": {
        "colab": {
          "base_uri": "https://localhost:8080/"
        },
        "id": "T2qvdxT-LcfX",
        "outputId": "4b66de58-3db1-4e5f-cc32-0530c835eb62"
      },
      "execution_count": null,
      "outputs": [
        {
          "output_type": "stream",
          "name": "stdout",
          "text": [
            "2004\n",
            "True\n"
          ]
        }
      ]
    },
    {
      "cell_type": "code",
      "source": [
        "def maxval(a,b,c):\n",
        "  max_val = 0\n",
        "  if(a>b and a>c):\n",
        "    max_val = a\n",
        "  elif(b>a and b>c):\n",
        "    max_val = b\n",
        "  else:\n",
        "    max_val = c\n",
        "  return(max_val) \n",
        "\n",
        "a = int(input())\n",
        "b = int(input())\n",
        "c = int(input())  \n",
        "print(maxval(a,b,c))        \n"
      ],
      "metadata": {
        "colab": {
          "base_uri": "https://localhost:8080/"
        },
        "id": "oEGHrR2wdoxh",
        "outputId": "b7824155-f514-4025-b042-ba97beffd863"
      },
      "execution_count": null,
      "outputs": [
        {
          "output_type": "stream",
          "name": "stdout",
          "text": [
            "20\n",
            "10\n",
            "30\n",
            "30\n"
          ]
        }
      ]
    },
    {
      "cell_type": "code",
      "source": [
        "def maxval(a,b,c):\n",
        "  max_val = 0\n",
        "  if(a<b):\n",
        "    a,b = b,a\n",
        "  if(a<c):\n",
        "    a,c = c,a \n",
        "  return a    \n"
      ],
      "metadata": {
        "id": "cgjoSffdP85N"
      },
      "execution_count": null,
      "outputs": []
    },
    {
      "cell_type": "code",
      "source": [
        "def dim_equal(A,B):\n",
        "  if((len(A) == len(B)) and (len(A[0]) == len(B[0]))):\n",
        "    return(True)\n",
        "  else:\n",
        "    return False  \n",
        "\n",
        "\n"
      ],
      "metadata": {
        "id": "IC0Fh7-RQMhb"
      },
      "execution_count": null,
      "outputs": []
    },
    {
      "cell_type": "code",
      "source": [],
      "metadata": {
        "id": "PvYInHsUTAp9"
      },
      "execution_count": null,
      "outputs": []
    },
    {
      "cell_type": "code",
      "source": [
        "l = [0,1,2,3,4,5,6,7,8,9]\n",
        "print(l[:-1]) # print first element to the n-1th element\n",
        "print(l[::-1]) # it will take first element till nth element and print it in reverse order\n",
        "print(l[2:8:2]) #take the 2 index element and print till 7th element step two means every alternate element get printed"
      ],
      "metadata": {
        "colab": {
          "base_uri": "https://localhost:8080/"
        },
        "id": "tlEtDi9VVol9",
        "outputId": "0799ed7f-6b3b-4837-844e-5a0176238d88"
      },
      "execution_count": null,
      "outputs": [
        {
          "output_type": "stream",
          "name": "stdout",
          "text": [
            "[0, 1, 2, 3, 4, 5, 6, 7, 8]\n",
            "[9, 8, 7, 6, 5, 4, 3, 2, 1, 0]\n",
            "[2, 4, 6]\n"
          ]
        }
      ]
    },
    {
      "cell_type": "code",
      "source": [
        "#fibonacci number\n",
        "def fibo(n):\n",
        "  x=0\n",
        "  y=1\n",
        "  if(n==1):\n",
        "    return 1\n",
        "  else:\n",
        "    for i in range( 1,n):\n",
        "      z= x+y\n",
        "      x=y\n",
        "      y=z\n",
        "    return z\n",
        "\n",
        "n= int(input())\n",
        "print(fibo(n))        \n"
      ],
      "metadata": {
        "colab": {
          "base_uri": "https://localhost:8080/"
        },
        "id": "K2N56D_7ZKdX",
        "outputId": "600adce6-730b-4069-e307-7a9525aa1812"
      },
      "execution_count": 15,
      "outputs": [
        {
          "output_type": "stream",
          "name": "stdout",
          "text": [
            "9\n",
            "34\n"
          ]
        }
      ]
    },
    {
      "cell_type": "code",
      "source": [
        "#print the column as a list\n",
        "def get_column(mat, col):\n",
        "  col_list = []\n",
        "  n = len(mat)\n",
        "  for i in range(n):\n",
        "    col_list.append(mat[i][col])\n",
        "  return col_list\n",
        "\n",
        "def get_row(mat,row):\n",
        "  return mat[row]\n",
        "  \n",
        "\n",
        "mat = [[1,3,5],[2,4,6],[3,1,2]]\n",
        "col= int(input())\n",
        "#get_column(mat,1)\n",
        "print(get_column(mat,col))\n",
        "\n",
        "\n"
      ],
      "metadata": {
        "colab": {
          "base_uri": "https://localhost:8080/"
        },
        "id": "0nmsDEO9ioa4",
        "outputId": "1329c940-17a0-4772-f7cc-e1511504715e"
      },
      "execution_count": 40,
      "outputs": [
        {
          "output_type": "stream",
          "name": "stdout",
          "text": [
            "2\n",
            "[5, 6, 2]\n"
          ]
        }
      ]
    },
    {
      "cell_type": "code",
      "source": [
        "#get_row(mat,2)\n",
        "print(get_row(mat,2))"
      ],
      "metadata": {
        "colab": {
          "base_uri": "https://localhost:8080/"
        },
        "id": "7TzoiaAcqDbk",
        "outputId": "1e2d16fe-29fe-48ec-d24c-795f75bb3b56"
      },
      "execution_count": 37,
      "outputs": [
        {
          "output_type": "stream",
          "name": "stdout",
          "text": [
            "[3, 1, 2]\n"
          ]
        }
      ]
    },
    {
      "cell_type": "code",
      "source": [
        "def insert(L,x):\n",
        "  s = []\n",
        "  for i in L:\n",
        "    if(i<=x):\n",
        "      s.append(i)\n",
        "  s.append(x) \n",
        "  for i in L:\n",
        "    if(i>x):\n",
        "      s.append(i) \n",
        "  return s\n",
        "L =[1,3,5,7,9]  \n",
        "x = int(input())\n",
        "print(insert(L,x))      "
      ],
      "metadata": {
        "colab": {
          "base_uri": "https://localhost:8080/"
        },
        "id": "qLCvpYiJ4eIa",
        "outputId": "6bf3b2a4-2efb-4342-a763-53642d21480c"
      },
      "execution_count": 42,
      "outputs": [
        {
          "output_type": "stream",
          "name": "stdout",
          "text": [
            "4\n",
            "[1, 3, 4, 5, 7, 9]\n"
          ]
        }
      ]
    },
    {
      "cell_type": "code",
      "source": [],
      "metadata": {
        "id": "6eAaYajHcdp5"
      },
      "execution_count": null,
      "outputs": []
    }
  ]
}